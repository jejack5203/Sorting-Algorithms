{
 "cells": [
  {
   "cell_type": "code",
   "execution_count": 3,
   "id": "d26ad374",
   "metadata": {},
   "outputs": [
    {
     "name": "stdout",
     "output_type": "stream",
     "text": [
      "This is the array after Selection Sort/No recursion: \n",
      "[-99, 1, 3, 5, 8, 11, 13]\n"
     ]
    }
   ],
   "source": [
    "def selectionSort(array, size):\n",
    "    for i in range(size):\n",
    "        first = i\n",
    "        \n",
    "        for j in range(i + 1, size):\n",
    "            if array[j] < array[first]: # checks if current position is smaller than the first\n",
    "                first = j # sets that smaller num as the new first position\n",
    "        (array[i], array[first]) = (array[first], array[i]) # swaps values \n",
    "array = [-99, 8, 11, 13, 5, 3, 1]\n",
    "size = len(array)\n",
    "\n",
    "selectionSort(array, size)\n",
    "print('This is the array after Selection Sort/No recursion: ')\n",
    "print(array)\n",
    "        "
   ]
  },
  {
   "cell_type": "code",
   "execution_count": 23,
   "id": "9f66b419",
   "metadata": {},
   "outputs": [
    {
     "name": "stdout",
     "output_type": "stream",
     "text": [
      "This is the array after Recursive Selection Sort:  [-99, 1, 3, 5, 8, 11, 13]\n"
     ]
    }
   ],
   "source": [
    "def recursiveSelectionSort(array, size, index = 0):\n",
    "    if index >= size: #checks if array index is out of range\n",
    "        return\n",
    "            \n",
    "    first = index\n",
    "        \n",
    "    for i in range(index + 1, size):\n",
    "        if array[i] < array[first]:\n",
    "            first = i\n",
    "    array[index], array[first] = array[first], array[index]\n",
    "    \n",
    "    recursiveSelectionSort(array, size, index + 1) # function calls itself\n",
    "    \n",
    "array = [-99, 8, 11, 13, 5, 3, 1]\n",
    "size = len(array)\n",
    "\n",
    "recursiveSelectionSort(array, size)\n",
    "print('This is the array after Recursive Selection Sort: ', array)"
   ]
  },
  {
   "cell_type": "code",
   "execution_count": 2,
   "id": "898cd52a",
   "metadata": {},
   "outputs": [
    {
     "name": "stdout",
     "output_type": "stream",
     "text": [
      "This is the array after Bubble Sort Version 3:  [-700, 2, 3, 5, 6, 8, 9, 20]\n"
     ]
    }
   ],
   "source": [
    "def bubbleSortVThree(array, size):\n",
    "        hasSwapped = False\n",
    "        for i in range(size-1):\n",
    "            for j in range(size - i - 1):\n",
    "                if array[j] > array[j + 1]: #checks if current position is greater than value next to it \n",
    "                    hasSwapped = True\n",
    "                    array[j], array[j + 1] = array[j + 1], array[j] # if true swap\n",
    "                    \n",
    "                    if hasSwapped == False:\n",
    "                        return \n",
    "        \n",
    "array = [5, 6, 8, 9, 3, 20, 2, -700]\n",
    "size = len(array)\n",
    "\n",
    "bubbleSortVThree(array, size)\n",
    "print('This is the array after Bubble Sort Version 3: ', array)"
   ]
  },
  {
   "cell_type": "code",
   "execution_count": 1,
   "id": "75340e10",
   "metadata": {},
   "outputs": [
    {
     "name": "stdout",
     "output_type": "stream",
     "text": [
      "This is the array after Recursive Bubble Sort:  [-700, 2, 3, 5, 6, 8, 9, 20]\n"
     ]
    }
   ],
   "source": [
    "def recursiveBubbleSort(array, size):\n",
    "        for i in range(size - 1):\n",
    "                if array[i] > array[i + 1]:\n",
    "                    array[i], array[i + 1] = array[i + 1], array[i]\n",
    "        if size > 1: # checks of array length has more than 1 value\n",
    "                    recursiveBubbleSort(array, size - 1) # function calls itself\n",
    "                \n",
    "        \n",
    "array = [5, 6, 8, 9, 3, 20, 2, -700]\n",
    "size = len(array)\n",
    "\n",
    "recursiveBubbleSort(array, size)\n",
    "print('This is the array after Recursive Bubble Sort: ', array)"
   ]
  },
  {
   "cell_type": "code",
   "execution_count": null,
   "id": "eeed46a5",
   "metadata": {},
   "outputs": [],
   "source": []
  }
 ],
 "metadata": {
  "kernelspec": {
   "display_name": "Python 3 (ipykernel)",
   "language": "python",
   "name": "python3"
  },
  "language_info": {
   "codemirror_mode": {
    "name": "ipython",
    "version": 3
   },
   "file_extension": ".py",
   "mimetype": "text/x-python",
   "name": "python",
   "nbconvert_exporter": "python",
   "pygments_lexer": "ipython3",
   "version": "3.11.5"
  }
 },
 "nbformat": 4,
 "nbformat_minor": 5
}
